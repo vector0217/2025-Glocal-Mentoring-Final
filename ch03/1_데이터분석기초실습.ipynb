{
 "cells": [
  {
   "cell_type": "markdown",
   "id": "655b6d59",
   "metadata": {},
   "source": [
    "\n",
    "# 🧪 데이터 분석 기초 실습\n",
    "\n",
    "본 실습은 데이터 분석의 기초 개념부터 Pandas를 활용한 실습, 시각화, 그리고 간단한 회귀 분석을 진행합니다.\n",
    "\n",
    "## 🧭 데이터 분석 개요\n",
    "데이터 분석은 데이터를 통해 패턴을 찾고 의미를 해석하는 과정입니다.\n",
    "\n",
    "- **데이터 수집**: 웹에서, 기기에서, 센서에서, 설문 등을 통해 수집\n",
    "- **데이터 전처리**: 결측값, 이상치 처리 및 데이터 정리\n",
    "- **데이터 분석 및 시각화**: 통계, 머신러닝, 시각화로 인사이트 도출\n",
    "- **예측 및 모델링**: 수치 예측, 분류 등 모델을 통해 예측\n",
    "\n",
    "---\n",
    "\n",
    "### 🧩 주요 용어\n",
    "- **Series**: 하나의 열, 1차원 데이터\n",
    "- **DataFrame**: 여러 Series가 모인 표 형식의 2차원 데이터\n",
    "- **행 (Row)**: 개별 데이터 한 줄\n",
    "- **열 (Column)**: 변수, 특징, 속성\n"
   ]
  },
  {
   "cell_type": "markdown",
   "id": "484a2781",
   "metadata": {},
   "source": [
    "## 🐼 Pandas 기초 실습\n",
    "Pandas는 표 형식의 데이터를 다루는 데 매우 강력한 라이브러리입니다."
   ]
  },
  {
   "cell_type": "code",
   "execution_count": 19,
   "id": "7c94e122",
   "metadata": {},
   "outputs": [
    {
     "data": {
      "text/html": [
       "<div>\n",
       "<style scoped>\n",
       "    .dataframe tbody tr th:only-of-type {\n",
       "        vertical-align: middle;\n",
       "    }\n",
       "\n",
       "    .dataframe tbody tr th {\n",
       "        vertical-align: top;\n",
       "    }\n",
       "\n",
       "    .dataframe thead th {\n",
       "        text-align: right;\n",
       "    }\n",
       "</style>\n",
       "<table border=\"1\" class=\"dataframe\">\n",
       "  <thead>\n",
       "    <tr style=\"text-align: right;\">\n",
       "      <th></th>\n",
       "      <th>이름</th>\n",
       "      <th>국어</th>\n",
       "      <th>영어</th>\n",
       "      <th>수학</th>\n",
       "    </tr>\n",
       "  </thead>\n",
       "  <tbody>\n",
       "    <tr>\n",
       "      <th>0</th>\n",
       "      <td>철수</td>\n",
       "      <td>88</td>\n",
       "      <td>78</td>\n",
       "      <td>92</td>\n",
       "    </tr>\n",
       "    <tr>\n",
       "      <th>1</th>\n",
       "      <td>영희</td>\n",
       "      <td>92</td>\n",
       "      <td>85</td>\n",
       "      <td>90</td>\n",
       "    </tr>\n",
       "    <tr>\n",
       "      <th>2</th>\n",
       "      <td>민수</td>\n",
       "      <td>79</td>\n",
       "      <td>90</td>\n",
       "      <td>85</td>\n",
       "    </tr>\n",
       "    <tr>\n",
       "      <th>3</th>\n",
       "      <td>지민</td>\n",
       "      <td>95</td>\n",
       "      <td>88</td>\n",
       "      <td>95</td>\n",
       "    </tr>\n",
       "  </tbody>\n",
       "</table>\n",
       "</div>"
      ],
      "text/plain": [
       "   이름  국어  영어  수학\n",
       "0  철수  88  78  92\n",
       "1  영희  92  85  90\n",
       "2  민수  79  90  85\n",
       "3  지민  95  88  95"
      ]
     },
     "execution_count": 19,
     "metadata": {},
     "output_type": "execute_result"
    }
   ],
   "source": [
    "\n",
    "import pandas as pd\n",
    "\n",
    "# 예제 데이터 생성\n",
    "data = {\n",
    "    '이름': ['철수', '영희', '민수', '지민'],\n",
    "    '국어': [88, 92, 79, 95],\n",
    "    '영어': [78, 85, 90, 88],\n",
    "    '수학': [92, 90, 85, 95]\n",
    "}\n",
    "df = pd.DataFrame(data)\n",
    "df\n"
   ]
  },
  {
   "cell_type": "markdown",
   "id": "8f125984",
   "metadata": {},
   "source": [
    "### 상/하위 데이터 확인 및 요약 통계"
   ]
  },
  {
   "cell_type": "code",
   "execution_count": 20,
   "id": "18d31bba",
   "metadata": {},
   "outputs": [
    {
     "name": "stdout",
     "output_type": "stream",
     "text": [
      "   이름  국어  영어  수학\n",
      "0  철수  88  78  92\n",
      "1  영희  92  85  90\n",
      "\n",
      "   이름  국어  영어  수학\n",
      "2  민수  79  90  85\n",
      "3  지민  95  88  95\n"
     ]
    }
   ],
   "source": [
    "\n",
    "# 상위 및 하위 데이터 조회\n",
    "print(df.head(2))   # 앞에서 2행\n",
    "print()\n",
    "print(df.tail(2))   # 뒤에서 2행\n"
   ]
  },
  {
   "cell_type": "code",
   "execution_count": 7,
   "id": "8a45d053",
   "metadata": {},
   "outputs": [
    {
     "data": {
      "text/html": [
       "<div>\n",
       "<style scoped>\n",
       "    .dataframe tbody tr th:only-of-type {\n",
       "        vertical-align: middle;\n",
       "    }\n",
       "\n",
       "    .dataframe tbody tr th {\n",
       "        vertical-align: top;\n",
       "    }\n",
       "\n",
       "    .dataframe thead th {\n",
       "        text-align: right;\n",
       "    }\n",
       "</style>\n",
       "<table border=\"1\" class=\"dataframe\">\n",
       "  <thead>\n",
       "    <tr style=\"text-align: right;\">\n",
       "      <th></th>\n",
       "      <th>국어</th>\n",
       "      <th>영어</th>\n",
       "      <th>수학</th>\n",
       "    </tr>\n",
       "  </thead>\n",
       "  <tbody>\n",
       "    <tr>\n",
       "      <th>count</th>\n",
       "      <td>4.000000</td>\n",
       "      <td>4.000000</td>\n",
       "      <td>4.000000</td>\n",
       "    </tr>\n",
       "    <tr>\n",
       "      <th>mean</th>\n",
       "      <td>88.500000</td>\n",
       "      <td>85.250000</td>\n",
       "      <td>90.500000</td>\n",
       "    </tr>\n",
       "    <tr>\n",
       "      <th>std</th>\n",
       "      <td>6.952218</td>\n",
       "      <td>5.251984</td>\n",
       "      <td>4.203173</td>\n",
       "    </tr>\n",
       "    <tr>\n",
       "      <th>min</th>\n",
       "      <td>79.000000</td>\n",
       "      <td>78.000000</td>\n",
       "      <td>85.000000</td>\n",
       "    </tr>\n",
       "    <tr>\n",
       "      <th>25%</th>\n",
       "      <td>85.750000</td>\n",
       "      <td>83.250000</td>\n",
       "      <td>88.750000</td>\n",
       "    </tr>\n",
       "    <tr>\n",
       "      <th>50%</th>\n",
       "      <td>90.000000</td>\n",
       "      <td>86.500000</td>\n",
       "      <td>91.000000</td>\n",
       "    </tr>\n",
       "    <tr>\n",
       "      <th>75%</th>\n",
       "      <td>92.750000</td>\n",
       "      <td>88.500000</td>\n",
       "      <td>92.750000</td>\n",
       "    </tr>\n",
       "    <tr>\n",
       "      <th>max</th>\n",
       "      <td>95.000000</td>\n",
       "      <td>90.000000</td>\n",
       "      <td>95.000000</td>\n",
       "    </tr>\n",
       "  </tbody>\n",
       "</table>\n",
       "</div>"
      ],
      "text/plain": [
       "              국어         영어         수학\n",
       "count   4.000000   4.000000   4.000000\n",
       "mean   88.500000  85.250000  90.500000\n",
       "std     6.952218   5.251984   4.203173\n",
       "min    79.000000  78.000000  85.000000\n",
       "25%    85.750000  83.250000  88.750000\n",
       "50%    90.000000  86.500000  91.000000\n",
       "75%    92.750000  88.500000  92.750000\n",
       "max    95.000000  90.000000  95.000000"
      ]
     },
     "execution_count": 7,
     "metadata": {},
     "output_type": "execute_result"
    }
   ],
   "source": [
    "\n",
    "# 기본 통계 정보\n",
    "df.describe()\n"
   ]
  },
  {
   "cell_type": "markdown",
   "id": "16d0a494",
   "metadata": {},
   "source": [
    "### 열 선택 및 조건 필터링"
   ]
  },
  {
   "cell_type": "code",
   "execution_count": 8,
   "id": "9d08bab4",
   "metadata": {},
   "outputs": [
    {
     "name": "stdout",
     "output_type": "stream",
     "text": [
      "0    88\n",
      "1    92\n",
      "2    79\n",
      "3    95\n",
      "Name: 국어, dtype: int64\n",
      "   국어  영어\n",
      "0  88  78\n",
      "1  92  85\n",
      "2  79  90\n",
      "3  95  88\n"
     ]
    }
   ],
   "source": [
    "\n",
    "# 열 선택 (시리즈로)\n",
    "print(df['국어'])\n",
    "\n",
    "# 여러 열 선택 (데이터프레임으로)\n",
    "print(df[['국어', '영어']])\n"
   ]
  },
  {
   "cell_type": "code",
   "execution_count": 9,
   "id": "8a61d4bf",
   "metadata": {},
   "outputs": [
    {
     "data": {
      "text/html": [
       "<div>\n",
       "<style scoped>\n",
       "    .dataframe tbody tr th:only-of-type {\n",
       "        vertical-align: middle;\n",
       "    }\n",
       "\n",
       "    .dataframe tbody tr th {\n",
       "        vertical-align: top;\n",
       "    }\n",
       "\n",
       "    .dataframe thead th {\n",
       "        text-align: right;\n",
       "    }\n",
       "</style>\n",
       "<table border=\"1\" class=\"dataframe\">\n",
       "  <thead>\n",
       "    <tr style=\"text-align: right;\">\n",
       "      <th></th>\n",
       "      <th>이름</th>\n",
       "      <th>국어</th>\n",
       "      <th>영어</th>\n",
       "      <th>수학</th>\n",
       "    </tr>\n",
       "  </thead>\n",
       "  <tbody>\n",
       "    <tr>\n",
       "      <th>1</th>\n",
       "      <td>영희</td>\n",
       "      <td>92</td>\n",
       "      <td>85</td>\n",
       "      <td>90</td>\n",
       "    </tr>\n",
       "    <tr>\n",
       "      <th>3</th>\n",
       "      <td>지민</td>\n",
       "      <td>95</td>\n",
       "      <td>88</td>\n",
       "      <td>95</td>\n",
       "    </tr>\n",
       "  </tbody>\n",
       "</table>\n",
       "</div>"
      ],
      "text/plain": [
       "   이름  국어  영어  수학\n",
       "1  영희  92  85  90\n",
       "3  지민  95  88  95"
      ]
     },
     "execution_count": 9,
     "metadata": {},
     "output_type": "execute_result"
    }
   ],
   "source": [
    "\n",
    "# 조건 필터링: 국어 점수가 90점 이상인 학생\n",
    "df[df['국어'] >= 90]\n"
   ]
  },
  {
   "cell_type": "markdown",
   "id": "7460b436",
   "metadata": {},
   "source": [
    "### 새로운 컬럼 추가 및 정렬"
   ]
  },
  {
   "cell_type": "code",
   "execution_count": 10,
   "id": "3883c834",
   "metadata": {},
   "outputs": [
    {
     "data": {
      "text/html": [
       "<div>\n",
       "<style scoped>\n",
       "    .dataframe tbody tr th:only-of-type {\n",
       "        vertical-align: middle;\n",
       "    }\n",
       "\n",
       "    .dataframe tbody tr th {\n",
       "        vertical-align: top;\n",
       "    }\n",
       "\n",
       "    .dataframe thead th {\n",
       "        text-align: right;\n",
       "    }\n",
       "</style>\n",
       "<table border=\"1\" class=\"dataframe\">\n",
       "  <thead>\n",
       "    <tr style=\"text-align: right;\">\n",
       "      <th></th>\n",
       "      <th>이름</th>\n",
       "      <th>국어</th>\n",
       "      <th>영어</th>\n",
       "      <th>수학</th>\n",
       "      <th>평균</th>\n",
       "    </tr>\n",
       "  </thead>\n",
       "  <tbody>\n",
       "    <tr>\n",
       "      <th>0</th>\n",
       "      <td>철수</td>\n",
       "      <td>88</td>\n",
       "      <td>78</td>\n",
       "      <td>92</td>\n",
       "      <td>86.000000</td>\n",
       "    </tr>\n",
       "    <tr>\n",
       "      <th>1</th>\n",
       "      <td>영희</td>\n",
       "      <td>92</td>\n",
       "      <td>85</td>\n",
       "      <td>90</td>\n",
       "      <td>89.000000</td>\n",
       "    </tr>\n",
       "    <tr>\n",
       "      <th>2</th>\n",
       "      <td>민수</td>\n",
       "      <td>79</td>\n",
       "      <td>90</td>\n",
       "      <td>85</td>\n",
       "      <td>84.666667</td>\n",
       "    </tr>\n",
       "    <tr>\n",
       "      <th>3</th>\n",
       "      <td>지민</td>\n",
       "      <td>95</td>\n",
       "      <td>88</td>\n",
       "      <td>95</td>\n",
       "      <td>92.666667</td>\n",
       "    </tr>\n",
       "  </tbody>\n",
       "</table>\n",
       "</div>"
      ],
      "text/plain": [
       "   이름  국어  영어  수학         평균\n",
       "0  철수  88  78  92  86.000000\n",
       "1  영희  92  85  90  89.000000\n",
       "2  민수  79  90  85  84.666667\n",
       "3  지민  95  88  95  92.666667"
      ]
     },
     "execution_count": 10,
     "metadata": {},
     "output_type": "execute_result"
    }
   ],
   "source": [
    "\n",
    "# 평균 점수 컬럼 추가\n",
    "df['평균'] = df[['국어', '영어', '수학']].mean(axis=1)\n",
    "df\n"
   ]
  },
  {
   "cell_type": "code",
   "execution_count": 11,
   "id": "d9c698c9",
   "metadata": {},
   "outputs": [
    {
     "data": {
      "text/html": [
       "<div>\n",
       "<style scoped>\n",
       "    .dataframe tbody tr th:only-of-type {\n",
       "        vertical-align: middle;\n",
       "    }\n",
       "\n",
       "    .dataframe tbody tr th {\n",
       "        vertical-align: top;\n",
       "    }\n",
       "\n",
       "    .dataframe thead th {\n",
       "        text-align: right;\n",
       "    }\n",
       "</style>\n",
       "<table border=\"1\" class=\"dataframe\">\n",
       "  <thead>\n",
       "    <tr style=\"text-align: right;\">\n",
       "      <th></th>\n",
       "      <th>이름</th>\n",
       "      <th>국어</th>\n",
       "      <th>영어</th>\n",
       "      <th>수학</th>\n",
       "      <th>평균</th>\n",
       "    </tr>\n",
       "  </thead>\n",
       "  <tbody>\n",
       "    <tr>\n",
       "      <th>3</th>\n",
       "      <td>지민</td>\n",
       "      <td>95</td>\n",
       "      <td>88</td>\n",
       "      <td>95</td>\n",
       "      <td>92.666667</td>\n",
       "    </tr>\n",
       "    <tr>\n",
       "      <th>1</th>\n",
       "      <td>영희</td>\n",
       "      <td>92</td>\n",
       "      <td>85</td>\n",
       "      <td>90</td>\n",
       "      <td>89.000000</td>\n",
       "    </tr>\n",
       "    <tr>\n",
       "      <th>0</th>\n",
       "      <td>철수</td>\n",
       "      <td>88</td>\n",
       "      <td>78</td>\n",
       "      <td>92</td>\n",
       "      <td>86.000000</td>\n",
       "    </tr>\n",
       "    <tr>\n",
       "      <th>2</th>\n",
       "      <td>민수</td>\n",
       "      <td>79</td>\n",
       "      <td>90</td>\n",
       "      <td>85</td>\n",
       "      <td>84.666667</td>\n",
       "    </tr>\n",
       "  </tbody>\n",
       "</table>\n",
       "</div>"
      ],
      "text/plain": [
       "   이름  국어  영어  수학         평균\n",
       "3  지민  95  88  95  92.666667\n",
       "1  영희  92  85  90  89.000000\n",
       "0  철수  88  78  92  86.000000\n",
       "2  민수  79  90  85  84.666667"
      ]
     },
     "execution_count": 11,
     "metadata": {},
     "output_type": "execute_result"
    }
   ],
   "source": [
    "\n",
    "# 평균 점수로 정렬\n",
    "df.sort_values(by='평균', ascending=False)\n"
   ]
  },
  {
   "cell_type": "markdown",
   "id": "a57b640d",
   "metadata": {},
   "source": [
    "## 1. 데이터 분석이란?\n",
    "- 데이터를 수집하고, 정리하고, 시각화하고, 의미 있는 통찰을 얻는 과정입니다.\n",
    "- Python에서는 `pandas`, `numpy`, `matplotlib`, `seaborn` 등을 사용하여 분석합니다.\n",
    "\n",
    "### 주요 개념\n",
    "- **데이터프레임**: 표 형태의 2차원 자료구조\n",
    "- **시리즈**: 데이터프레임의 열(1차원 자료)\n",
    "- **행(Row)**: 데이터 1건\n",
    "- **열(Column)**: 변수, 정보\n"
   ]
  },
  {
   "cell_type": "markdown",
   "id": "87009884",
   "metadata": {},
   "source": [
    "## 2. Pandas를 활용한 데이터 다루기\n"
   ]
  },
  {
   "cell_type": "code",
   "execution_count": 12,
   "id": "6aac1797",
   "metadata": {},
   "outputs": [
    {
     "data": {
      "text/html": [
       "<div>\n",
       "<style scoped>\n",
       "    .dataframe tbody tr th:only-of-type {\n",
       "        vertical-align: middle;\n",
       "    }\n",
       "\n",
       "    .dataframe tbody tr th {\n",
       "        vertical-align: top;\n",
       "    }\n",
       "\n",
       "    .dataframe thead th {\n",
       "        text-align: right;\n",
       "    }\n",
       "</style>\n",
       "<table border=\"1\" class=\"dataframe\">\n",
       "  <thead>\n",
       "    <tr style=\"text-align: right;\">\n",
       "      <th></th>\n",
       "      <th>이름</th>\n",
       "      <th>나이</th>\n",
       "      <th>성적</th>\n",
       "    </tr>\n",
       "  </thead>\n",
       "  <tbody>\n",
       "    <tr>\n",
       "      <th>0</th>\n",
       "      <td>철수</td>\n",
       "      <td>17</td>\n",
       "      <td>88</td>\n",
       "    </tr>\n",
       "    <tr>\n",
       "      <th>1</th>\n",
       "      <td>영희</td>\n",
       "      <td>16</td>\n",
       "      <td>92</td>\n",
       "    </tr>\n",
       "    <tr>\n",
       "      <th>2</th>\n",
       "      <td>민수</td>\n",
       "      <td>18</td>\n",
       "      <td>79</td>\n",
       "    </tr>\n",
       "    <tr>\n",
       "      <th>3</th>\n",
       "      <td>지민</td>\n",
       "      <td>17</td>\n",
       "      <td>95</td>\n",
       "    </tr>\n",
       "  </tbody>\n",
       "</table>\n",
       "</div>"
      ],
      "text/plain": [
       "   이름  나이  성적\n",
       "0  철수  17  88\n",
       "1  영희  16  92\n",
       "2  민수  18  79\n",
       "3  지민  17  95"
      ]
     },
     "execution_count": 12,
     "metadata": {},
     "output_type": "execute_result"
    }
   ],
   "source": [
    "import pandas as pd\n",
    "\n",
    "# 딕셔너리를 이용해 데이터프레임 생성\n",
    "data = {\n",
    "    '이름': ['철수', '영희', '민수', '지민'],\n",
    "    '나이': [17, 16, 18, 17],\n",
    "    '성적': [88, 92, 79, 95]\n",
    "}\n",
    "df = pd.DataFrame(data)\n",
    "df"
   ]
  },
  {
   "cell_type": "markdown",
   "id": "9ca478f4",
   "metadata": {},
   "source": [
    "### 데이터 요약\n",
    "- 상위 5개 출력: `df.head()`\n",
    "- 열 이름 확인: `df.columns`\n",
    "- 데이터 타입 확인: `df.dtypes`\n",
    "- 기술통계 요약: `df.describe()`"
   ]
  },
  {
   "cell_type": "code",
   "execution_count": 13,
   "id": "fba55bc8",
   "metadata": {},
   "outputs": [
    {
     "data": {
      "text/html": [
       "<div>\n",
       "<style scoped>\n",
       "    .dataframe tbody tr th:only-of-type {\n",
       "        vertical-align: middle;\n",
       "    }\n",
       "\n",
       "    .dataframe tbody tr th {\n",
       "        vertical-align: top;\n",
       "    }\n",
       "\n",
       "    .dataframe thead th {\n",
       "        text-align: right;\n",
       "    }\n",
       "</style>\n",
       "<table border=\"1\" class=\"dataframe\">\n",
       "  <thead>\n",
       "    <tr style=\"text-align: right;\">\n",
       "      <th></th>\n",
       "      <th>나이</th>\n",
       "      <th>성적</th>\n",
       "    </tr>\n",
       "  </thead>\n",
       "  <tbody>\n",
       "    <tr>\n",
       "      <th>count</th>\n",
       "      <td>4.000000</td>\n",
       "      <td>4.000000</td>\n",
       "    </tr>\n",
       "    <tr>\n",
       "      <th>mean</th>\n",
       "      <td>17.000000</td>\n",
       "      <td>88.500000</td>\n",
       "    </tr>\n",
       "    <tr>\n",
       "      <th>std</th>\n",
       "      <td>0.816497</td>\n",
       "      <td>6.952218</td>\n",
       "    </tr>\n",
       "    <tr>\n",
       "      <th>min</th>\n",
       "      <td>16.000000</td>\n",
       "      <td>79.000000</td>\n",
       "    </tr>\n",
       "    <tr>\n",
       "      <th>25%</th>\n",
       "      <td>16.750000</td>\n",
       "      <td>85.750000</td>\n",
       "    </tr>\n",
       "    <tr>\n",
       "      <th>50%</th>\n",
       "      <td>17.000000</td>\n",
       "      <td>90.000000</td>\n",
       "    </tr>\n",
       "    <tr>\n",
       "      <th>75%</th>\n",
       "      <td>17.250000</td>\n",
       "      <td>92.750000</td>\n",
       "    </tr>\n",
       "    <tr>\n",
       "      <th>max</th>\n",
       "      <td>18.000000</td>\n",
       "      <td>95.000000</td>\n",
       "    </tr>\n",
       "  </tbody>\n",
       "</table>\n",
       "</div>"
      ],
      "text/plain": [
       "              나이         성적\n",
       "count   4.000000   4.000000\n",
       "mean   17.000000  88.500000\n",
       "std     0.816497   6.952218\n",
       "min    16.000000  79.000000\n",
       "25%    16.750000  85.750000\n",
       "50%    17.000000  90.000000\n",
       "75%    17.250000  92.750000\n",
       "max    18.000000  95.000000"
      ]
     },
     "execution_count": 13,
     "metadata": {},
     "output_type": "execute_result"
    }
   ],
   "source": [
    "df.describe()"
   ]
  },
  {
   "cell_type": "markdown",
   "id": "612a8529",
   "metadata": {},
   "source": [
    "## 3. 데이터 시각화"
   ]
  },
  {
   "cell_type": "code",
   "execution_count": null,
   "id": "a57db47b",
   "metadata": {},
   "outputs": [
    {
     "data": {
      "text/plain": [
       "array([[<Axes: title={'center': 'HM_AVG'}>]], dtype=object)"
      ]
     },
     "execution_count": 1,
     "metadata": {},
     "output_type": "execute_result"
    },
    {
     "data": {
      "image/png": "[encoded data removed]",
      "text/plain": [
       "<Figure size 640x480 with 1 Axes>"
      ]
     },
     "metadata": {},
     "output_type": "display_data"
    }
   ],
   "source": [
    "# 히스토그램\n",
    "import pandas as pd\n",
    "import matplotlib.pyplot as plt\n",
    "mydata = pd.read_csv(\"mydata.csv\")\n",
    "mydata[['HM_AVG']].hist()"
   ]
  },
  {
   "cell_type": "code",
   "execution_count": 5,
   "id": "8e9253ed",
   "metadata": {},
   "outputs": [
    {
     "data": {
      "text/plain": [
       "<Axes: xlabel='HM_AVG', ylabel='Count'>"
      ]
     },
     "execution_count": 5,
     "metadata": {},
     "output_type": "execute_result"
    },
    {
     "data": {
      "image/png": "[encoded data removed]",
      "text/plain": [
       "<Figure size 1000x500 with 1 Axes>"
      ]
     },
     "metadata": {},
     "output_type": "display_data"
    }
   ],
   "source": [
    "# seaborn 을 활용한 히스토그램\n",
    "import seaborn as sns\n",
    "import matplotlib.pyplot as plt\n",
    "plt.figure(figsize=(10,5))\n",
    "sns.histplot(mydata.HM_AVG, kde = False) # kde :가우시안확률밀도여부"
   ]
  },
  {
   "cell_type": "code",
   "execution_count": null,
   "id": "0b0641f0",
   "metadata": {},
   "outputs": [
    {
     "data": {
      "text/plain": [
       "<Axes: >"
      ]
     },
     "execution_count": 3,
     "metadata": {},
     "output_type": "execute_result"
    },
    {
     "data": {
      "image/png": "[encoded data removed]",
      "text/plain": [
       "<Figure size 640x480 with 1 Axes>"
      ]
     },
     "metadata": {},
     "output_type": "display_data"
    }
   ],
   "source": [
    "# 상자 도표 Box Plot\n",
    "import pandas as pd\n",
    "import matplotlib.pyplot as plt\n",
    "mydata=pd.read_csv('mydata.csv')\n",
    "# 데이터로드\n",
    "mydata.boxplot(column='RN_DAY')"
   ]
  },
  {
   "cell_type": "code",
   "execution_count": 6,
   "id": "f760df34",
   "metadata": {},
   "outputs": [
    {
     "data": {
      "text/plain": [
       "array([[ 1.        , -0.56694671],\n",
       "       [-0.56694671,  1.        ]])"
      ]
     },
     "execution_count": 6,
     "metadata": {},
     "output_type": "execute_result"
    }
   ],
   "source": [
    "# Numpy를 활용한 상관관계 분석\n",
    "import numpy as np\n",
    "a=np.array([1,2,3,4,5])\n",
    "b=np.array([3,2,3,1,2])\n",
    "np.corrcoef(a,b)"
   ]
  },
  {
   "cell_type": "code",
   "execution_count": 7,
   "id": "a581fa2e",
   "metadata": {},
   "outputs": [
    {
     "data": {
      "text/html": [
       "<div>\n",
       "<style scoped>\n",
       "    .dataframe tbody tr th:only-of-type {\n",
       "        vertical-align: middle;\n",
       "    }\n",
       "\n",
       "    .dataframe tbody tr th {\n",
       "        vertical-align: top;\n",
       "    }\n",
       "\n",
       "    .dataframe thead th {\n",
       "        text-align: right;\n",
       "    }\n",
       "</style>\n",
       "<table border=\"1\" class=\"dataframe\">\n",
       "  <thead>\n",
       "    <tr style=\"text-align: right;\">\n",
       "      <th></th>\n",
       "      <th>CA_TOT</th>\n",
       "      <th>HM_AVG</th>\n",
       "      <th>RN_DAY</th>\n",
       "    </tr>\n",
       "  </thead>\n",
       "  <tbody>\n",
       "    <tr>\n",
       "      <th>CA_TOT</th>\n",
       "      <td>1.000000</td>\n",
       "      <td>0.665570</td>\n",
       "      <td>0.561871</td>\n",
       "    </tr>\n",
       "    <tr>\n",
       "      <th>HM_AVG</th>\n",
       "      <td>0.665570</td>\n",
       "      <td>1.000000</td>\n",
       "      <td>0.591783</td>\n",
       "    </tr>\n",
       "    <tr>\n",
       "      <th>RN_DAY</th>\n",
       "      <td>0.561871</td>\n",
       "      <td>0.591783</td>\n",
       "      <td>1.000000</td>\n",
       "    </tr>\n",
       "  </tbody>\n",
       "</table>\n",
       "</div>"
      ],
      "text/plain": [
       "          CA_TOT    HM_AVG    RN_DAY\n",
       "CA_TOT  1.000000  0.665570  0.561871\n",
       "HM_AVG  0.665570  1.000000  0.591783\n",
       "RN_DAY  0.561871  0.591783  1.000000"
      ]
     },
     "execution_count": 7,
     "metadata": {},
     "output_type": "execute_result"
    }
   ],
   "source": [
    "# pandas 활용 상관관계 분석\n",
    "import pandas as pd\n",
    "mydata=pd.read_csv('mydata.csv')\n",
    "X = mydata.iloc[:,1:4] # 두번째~세번째컬럼선택\n",
    "X.corr(method='pearson')"
   ]
  },
  {
   "cell_type": "code",
   "execution_count": 8,
   "id": "d960e765",
   "metadata": {},
   "outputs": [
    {
     "data": {
      "text/plain": [
       "Text(0, 0.5, 'CA_TOT')"
      ]
     },
     "execution_count": 8,
     "metadata": {},
     "output_type": "execute_result"
    },
    {
     "data": {
      "image/png": "[encoded data removed]",
      "text/plain": [
       "<Figure size 640x480 with 1 Axes>"
      ]
     },
     "metadata": {},
     "output_type": "display_data"
    }
   ],
   "source": [
    "# 산점도\n",
    "import matplotlib.pyplot as plt\n",
    "mydata=pd.read_csv('mydata.csv')\n",
    "plt.scatter(mydata['RN_DAY'],\n",
    "mydata['CA_TOT'],color='b', marker='o')\n",
    "plt.xlabel('RN_DAY')\n",
    "plt.ylabel('CA_TOT')"
   ]
  },
  {
   "cell_type": "markdown",
   "id": "db39e03c",
   "metadata": {},
   "source": [
    "## 4. 기상 예제 데이터\n",
    "- 평균기온(TEMP_AVG)과 일조시간(SUNLIGHT_HOURS)의 관계를 분석해봅니다."
   ]
  },
  {
   "cell_type": "code",
   "execution_count": null,
   "id": "4f2638f8",
   "metadata": {},
   "outputs": [
    {
     "data": {
      "text/html": [
       "<div>\n",
       "<style scoped>\n",
       "    .dataframe tbody tr th:only-of-type {\n",
       "        vertical-align: middle;\n",
       "    }\n",
       "\n",
       "    .dataframe tbody tr th {\n",
       "        vertical-align: top;\n",
       "    }\n",
       "\n",
       "    .dataframe thead th {\n",
       "        text-align: right;\n",
       "    }\n",
       "</style>\n",
       "<table border=\"1\" class=\"dataframe\">\n",
       "  <thead>\n",
       "    <tr style=\"text-align: right;\">\n",
       "      <th></th>\n",
       "      <th>DATE</th>\n",
       "      <th>TEMP_AVG</th>\n",
       "      <th>RAINFALL</th>\n",
       "      <th>SUNLIGHT_HOURS</th>\n",
       "    </tr>\n",
       "  </thead>\n",
       "  <tbody>\n",
       "    <tr>\n",
       "      <th>0</th>\n",
       "      <td>2023-01-01</td>\n",
       "      <td>1.0</td>\n",
       "      <td>0.0</td>\n",
       "      <td>8.2</td>\n",
       "    </tr>\n",
       "    <tr>\n",
       "      <th>1</th>\n",
       "      <td>2023-01-02</td>\n",
       "      <td>2.3</td>\n",
       "      <td>5.2</td>\n",
       "      <td>4.5</td>\n",
       "    </tr>\n",
       "    <tr>\n",
       "      <th>2</th>\n",
       "      <td>2023-01-03</td>\n",
       "      <td>1.8</td>\n",
       "      <td>0.0</td>\n",
       "      <td>7.8</td>\n",
       "    </tr>\n",
       "    <tr>\n",
       "      <th>3</th>\n",
       "      <td>2023-01-04</td>\n",
       "      <td>3.5</td>\n",
       "      <td>12.1</td>\n",
       "      <td>2.1</td>\n",
       "    </tr>\n",
       "    <tr>\n",
       "      <th>4</th>\n",
       "      <td>2023-01-05</td>\n",
       "      <td>4.1</td>\n",
       "      <td>3.4</td>\n",
       "      <td>3.2</td>\n",
       "    </tr>\n",
       "    <tr>\n",
       "      <th>5</th>\n",
       "      <td>2023-01-06</td>\n",
       "      <td>3.0</td>\n",
       "      <td>0.0</td>\n",
       "      <td>6.8</td>\n",
       "    </tr>\n",
       "    <tr>\n",
       "      <th>6</th>\n",
       "      <td>2023-01-07</td>\n",
       "      <td>2.7</td>\n",
       "      <td>0.0</td>\n",
       "      <td>7.1</td>\n",
       "    </tr>\n",
       "    <tr>\n",
       "      <th>7</th>\n",
       "      <td>2023-01-08</td>\n",
       "      <td>1.5</td>\n",
       "      <td>0.0</td>\n",
       "      <td>9.0</td>\n",
       "    </tr>\n",
       "    <tr>\n",
       "      <th>8</th>\n",
       "      <td>2023-01-09</td>\n",
       "      <td>0.9</td>\n",
       "      <td>1.2</td>\n",
       "      <td>8.9</td>\n",
       "    </tr>\n",
       "    <tr>\n",
       "      <th>9</th>\n",
       "      <td>2023-01-10</td>\n",
       "      <td>1.2</td>\n",
       "      <td>0.0</td>\n",
       "      <td>8.4</td>\n",
       "    </tr>\n",
       "  </tbody>\n",
       "</table>\n",
       "</div>"
      ],
      "text/plain": [
       "        DATE  TEMP_AVG  RAINFALL  SUNLIGHT_HOURS\n",
       "0 2023-01-01       1.0       0.0             8.2\n",
       "1 2023-01-02       2.3       5.2             4.5\n",
       "2 2023-01-03       1.8       0.0             7.8\n",
       "3 2023-01-04       3.5      12.1             2.1\n",
       "4 2023-01-05       4.1       3.4             3.2\n",
       "5 2023-01-06       3.0       0.0             6.8\n",
       "6 2023-01-07       2.7       0.0             7.1\n",
       "7 2023-01-08       1.5       0.0             9.0\n",
       "8 2023-01-09       0.9       1.2             8.9\n",
       "9 2023-01-10       1.2       0.0             8.4"
      ]
     },
     "execution_count": 15,
     "metadata": {},
     "output_type": "execute_result"
    }
   ],
   "source": [
    "# 기상 예제 데이터\n",
    "weather = pd.DataFrame({\n",
    "    'DATE': pd.date_range(start='2023-01-01', periods=10, freq='D'),\n",
    "    'TEMP_AVG': [1.0, 2.3, 1.8, 3.5, 4.1, 3.0, 2.7, 1.5, 0.9, 1.2],\n",
    "    'RAINFALL': [0.0, 5.2, 0.0, 12.1, 3.4, 0.0, 0.0, 0.0, 1.2, 0.0],\n",
    "    'SUNLIGHT_HOURS': [8.2, 4.5, 7.8, 2.1, 3.2, 6.8, 7.1, 9.0, 8.9, 8.4]\n",
    "})\n",
    "weather"
   ]
  },
  {
   "cell_type": "markdown",
   "id": "46068c12",
   "metadata": {},
   "source": [
    "## 5. 선형 회귀 분석 (기온 ➝ 일조시간)\n",
    "- `statsmodels` 라이브러리를 활용합니다.\n",
    "- 회귀선 시각화 + 해석도 함께 진행합니다."
   ]
  },
  {
   "cell_type": "code",
   "execution_count": 17,
   "id": "a23c087a",
   "metadata": {},
   "outputs": [
    {
     "name": "stdout",
     "output_type": "stream",
     "text": [
      "                            OLS Regression Results                            \n",
      "==============================================================================\n",
      "Dep. Variable:         SUNLIGHT_HOURS   R-squared:                       0.732\n",
      "Model:                            OLS   Adj. R-squared:                  0.698\n",
      "Method:                 Least Squares   F-statistic:                     21.80\n",
      "Date:                Fri, 13 Jun 2025   Prob (F-statistic):            0.00161\n",
      "Time:                        00:33:28   Log-Likelihood:                -16.120\n",
      "No. Observations:                  10   AIC:                             36.24\n",
      "Df Residuals:                       8   BIC:                             36.85\n",
      "Df Model:                           1                                         \n",
      "Covariance Type:            nonrobust                                         \n",
      "==============================================================================\n",
      "                 coef    std err          t      P>|t|      [0.025      0.975]\n",
      "------------------------------------------------------------------------------\n",
      "const         10.8036      0.997     10.833      0.000       8.504      13.103\n",
      "TEMP_AVG      -1.9107      0.409     -4.669      0.002      -2.854      -0.967\n",
      "==============================================================================\n",
      "Omnibus:                        0.523   Durbin-Watson:                   1.500\n",
      "Prob(Omnibus):                  0.770   Jarque-Bera (JB):                0.547\n",
      "Skew:                          -0.333   Prob(JB):                        0.761\n",
      "Kurtosis:                       2.068   Cond. No.                         6.47\n",
      "==============================================================================\n",
      "\n",
      "Notes:\n",
      "[1] Standard Errors assume that the covariance matrix of the errors is correctly specified.\n"
     ]
    },
    {
     "name": "stderr",
     "output_type": "stream",
     "text": [
      "/Users/pkd/HanaTI/2025-glocal-mentoring/.venv/lib/python3.11/site-packages/scipy/stats/_axis_nan_policy.py:430: UserWarning: `kurtosistest` p-value may be inaccurate with fewer than 20 observations; only n=10 observations were given.\n",
      "  return hypotest_fun_in(*args, **kwds)\n"
     ]
    }
   ],
   "source": [
    "import statsmodels.api as sm\n",
    "\n",
    "# 독립변수와 종속변수 설정\n",
    "X = sm.add_constant(weather['TEMP_AVG'])\n",
    "y = weather['SUNLIGHT_HOURS']\n",
    "\n",
    "# 회귀모형 적합\n",
    "model = sm.OLS(y, X).fit()\n",
    "weather['PREDICTED'] = model.predict(X)\n",
    "\n",
    "# 회귀 결과 요약\n",
    "print(model.summary())"
   ]
  },
  {
   "cell_type": "code",
   "execution_count": 18,
   "id": "f924df8a",
   "metadata": {},
   "outputs": [
    {
     "name": "stderr",
     "output_type": "stream",
     "text": [
      "/Users/pkd/HanaTI/2025-glocal-mentoring/.venv/lib/python3.11/site-packages/IPython/core/pylabtools.py:170: UserWarning: Glyph 51068 (\\N{HANGUL SYLLABLE IL}) missing from font(s) DejaVu Sans.\n",
      "  fig.canvas.print_figure(bytes_io, **kw)\n",
      "/Users/pkd/HanaTI/2025-glocal-mentoring/.venv/lib/python3.11/site-packages/IPython/core/pylabtools.py:170: UserWarning: Glyph 51312 (\\N{HANGUL SYLLABLE JO}) missing from font(s) DejaVu Sans.\n",
      "  fig.canvas.print_figure(bytes_io, **kw)\n",
      "/Users/pkd/HanaTI/2025-glocal-mentoring/.venv/lib/python3.11/site-packages/IPython/core/pylabtools.py:170: UserWarning: Glyph 49884 (\\N{HANGUL SYLLABLE SI}) missing from font(s) DejaVu Sans.\n",
      "  fig.canvas.print_figure(bytes_io, **kw)\n",
      "/Users/pkd/HanaTI/2025-glocal-mentoring/.venv/lib/python3.11/site-packages/IPython/core/pylabtools.py:170: UserWarning: Glyph 44036 (\\N{HANGUL SYLLABLE GAN}) missing from font(s) DejaVu Sans.\n",
      "  fig.canvas.print_figure(bytes_io, **kw)\n",
      "/Users/pkd/HanaTI/2025-glocal-mentoring/.venv/lib/python3.11/site-packages/IPython/core/pylabtools.py:170: UserWarning: Glyph 44592 (\\N{HANGUL SYLLABLE GI}) missing from font(s) DejaVu Sans.\n",
      "  fig.canvas.print_figure(bytes_io, **kw)\n",
      "/Users/pkd/HanaTI/2025-glocal-mentoring/.venv/lib/python3.11/site-packages/IPython/core/pylabtools.py:170: UserWarning: Glyph 50728 (\\N{HANGUL SYLLABLE ON}) missing from font(s) DejaVu Sans.\n",
      "  fig.canvas.print_figure(bytes_io, **kw)\n",
      "/Users/pkd/HanaTI/2025-glocal-mentoring/.venv/lib/python3.11/site-packages/IPython/core/pylabtools.py:170: UserWarning: Glyph 50640 (\\N{HANGUL SYLLABLE E}) missing from font(s) DejaVu Sans.\n",
      "  fig.canvas.print_figure(bytes_io, **kw)\n",
      "/Users/pkd/HanaTI/2025-glocal-mentoring/.venv/lib/python3.11/site-packages/IPython/core/pylabtools.py:170: UserWarning: Glyph 46384 (\\N{HANGUL SYLLABLE DDA}) missing from font(s) DejaVu Sans.\n",
      "  fig.canvas.print_figure(bytes_io, **kw)\n",
      "/Users/pkd/HanaTI/2025-glocal-mentoring/.venv/lib/python3.11/site-packages/IPython/core/pylabtools.py:170: UserWarning: Glyph 47480 (\\N{HANGUL SYLLABLE REUN}) missing from font(s) DejaVu Sans.\n",
      "  fig.canvas.print_figure(bytes_io, **kw)\n",
      "/Users/pkd/HanaTI/2025-glocal-mentoring/.venv/lib/python3.11/site-packages/IPython/core/pylabtools.py:170: UserWarning: Glyph 50696 (\\N{HANGUL SYLLABLE YE}) missing from font(s) DejaVu Sans.\n",
      "  fig.canvas.print_figure(bytes_io, **kw)\n",
      "/Users/pkd/HanaTI/2025-glocal-mentoring/.venv/lib/python3.11/site-packages/IPython/core/pylabtools.py:170: UserWarning: Glyph 52769 (\\N{HANGUL SYLLABLE CEUG}) missing from font(s) DejaVu Sans.\n",
      "  fig.canvas.print_figure(bytes_io, **kw)\n",
      "/Users/pkd/HanaTI/2025-glocal-mentoring/.venv/lib/python3.11/site-packages/IPython/core/pylabtools.py:170: UserWarning: Glyph 54217 (\\N{HANGUL SYLLABLE PYEONG}) missing from font(s) DejaVu Sans.\n",
      "  fig.canvas.print_figure(bytes_io, **kw)\n",
      "/Users/pkd/HanaTI/2025-glocal-mentoring/.venv/lib/python3.11/site-packages/IPython/core/pylabtools.py:170: UserWarning: Glyph 44512 (\\N{HANGUL SYLLABLE GYUN}) missing from font(s) DejaVu Sans.\n",
      "  fig.canvas.print_figure(bytes_io, **kw)\n",
      "/Users/pkd/HanaTI/2025-glocal-mentoring/.venv/lib/python3.11/site-packages/IPython/core/pylabtools.py:170: UserWarning: Glyph 49892 (\\N{HANGUL SYLLABLE SIL}) missing from font(s) DejaVu Sans.\n",
      "  fig.canvas.print_figure(bytes_io, **kw)\n",
      "/Users/pkd/HanaTI/2025-glocal-mentoring/.venv/lib/python3.11/site-packages/IPython/core/pylabtools.py:170: UserWarning: Glyph 44050 (\\N{HANGUL SYLLABLE GABS}) missing from font(s) DejaVu Sans.\n",
      "  fig.canvas.print_figure(bytes_io, **kw)\n",
      "/Users/pkd/HanaTI/2025-glocal-mentoring/.venv/lib/python3.11/site-packages/IPython/core/pylabtools.py:170: UserWarning: Glyph 54924 (\\N{HANGUL SYLLABLE HOE}) missing from font(s) DejaVu Sans.\n",
      "  fig.canvas.print_figure(bytes_io, **kw)\n",
      "/Users/pkd/HanaTI/2025-glocal-mentoring/.venv/lib/python3.11/site-packages/IPython/core/pylabtools.py:170: UserWarning: Glyph 44480 (\\N{HANGUL SYLLABLE GWI}) missing from font(s) DejaVu Sans.\n",
      "  fig.canvas.print_figure(bytes_io, **kw)\n",
      "/Users/pkd/HanaTI/2025-glocal-mentoring/.venv/lib/python3.11/site-packages/IPython/core/pylabtools.py:170: UserWarning: Glyph 49440 (\\N{HANGUL SYLLABLE SEON}) missing from font(s) DejaVu Sans.\n",
      "  fig.canvas.print_figure(bytes_io, **kw)\n"
     ]
    },
    {
     "data": {
      "image/png": "[encoded data removed]",
      "text/plain": [
       "<Figure size 800x500 with 1 Axes>"
      ]
     },
     "metadata": {},
     "output_type": "display_data"
    }
   ],
   "source": [
    "# 시각화\n",
    "plt.figure(figsize=(8, 5))\n",
    "sns.scatterplot(x='TEMP_AVG', y='SUNLIGHT_HOURS', data=weather, label='실측값')\n",
    "sns.lineplot(x='TEMP_AVG', y='PREDICTED', data=weather, color='red', label='회귀선')\n",
    "plt.title('기온에 따른 일조시간 예측')\n",
    "plt.xlabel('평균 기온 (℃)')\n",
    "plt.ylabel('일조시간 (시간)')\n",
    "plt.legend()\n",
    "plt.show()"
   ]
  },
  {
   "cell_type": "markdown",
   "id": "548fb0b4",
   "metadata": {},
   "source": [
    "## 6. 단순 선형 회기 분석\n",
    "- 전운량에 따른 일조합(시간) 예측\n",
    "- 청주지역에서 2015년에 일 단위로 측정된 ASOS 예제 데이터를 활용해 일평균전운량에 따른 일조합(시간)을 예측해 봅시다."
   ]
  },
  {
   "cell_type": "code",
   "execution_count": 9,
   "id": "1523b75f",
   "metadata": {},
   "outputs": [
    {
     "name": "stdout",
     "output_type": "stream",
     "text": [
      "         TM  CA_TOT  SS_DAY\n",
      "0  20150101     3.4     7.8\n",
      "1  20150102     3.1     7.1\n",
      "2  20150103     3.7     5.8\n",
      "3  20150104     3.1     6.2\n",
      "4  20150105     6.5     5.1\n",
      "                            OLS Regression Results                            \n",
      "==============================================================================\n",
      "Dep. Variable:                 SS_DAY   R-squared:                       0.674\n",
      "Model:                            OLS   Adj. R-squared:                  0.673\n",
      "Method:                 Least Squares   F-statistic:                     749.0\n",
      "Date:                Fri, 13 Jun 2025   Prob (F-statistic):           2.88e-90\n",
      "Time:                        01:29:49   Log-Likelihood:                -827.45\n",
      "No. Observations:                 365   AIC:                             1659.\n",
      "Df Residuals:                     363   BIC:                             1667.\n",
      "Df Model:                           1                                         \n",
      "Covariance Type:            nonrobust                                         \n",
      "==============================================================================\n",
      "                 coef    std err          t      P>|t|      [0.025      0.975]\n",
      "------------------------------------------------------------------------------\n",
      "Intercept     12.2217      0.238     51.347      0.000      11.754      12.690\n",
      "CA_TOT        -1.0953      0.040    -27.369      0.000      -1.174      -1.017\n",
      "==============================================================================\n",
      "Omnibus:                       16.488   Durbin-Watson:                   1.191\n",
      "Prob(Omnibus):                  0.000   Jarque-Bera (JB):               16.529\n",
      "Skew:                           0.482   Prob(JB):                     0.000258\n",
      "Kurtosis:                       2.605   Cond. No.                         11.8\n",
      "==============================================================================\n",
      "\n",
      "Notes:\n",
      "[1] Standard Errors assume that the covariance matrix of the errors is correctly specified.\n",
      "< Parameters > \n",
      " Intercept    12.221711\n",
      "CA_TOT       -1.095343\n",
      "dtype: float64\n",
      "< Prob (Parameters) > \n",
      " Intercept    1.545615e-168\n",
      "CA_TOT        2.877431e-90\n",
      "dtype: float64\n",
      "< Adj. R-squaured > \n",
      " 0.6726741174360685\n",
      "< Prob (F-statistic) > \n",
      " 2.8774305545340323e-90\n"
     ]
    },
    {
     "data": {
      "text/plain": [
       "<matplotlib.legend.Legend at 0x1252a0cd0>"
      ]
     },
     "execution_count": 9,
     "metadata": {},
     "output_type": "execute_result"
    },
    {
     "data": {
      "image/png": "[encoded data removed]",
      "text/plain": [
       "<Figure size 800x500 with 1 Axes>"
      ]
     },
     "metadata": {},
     "output_type": "display_data"
    }
   ],
   "source": [
    "### 패키지불러오기\n",
    "import pandas as pd\n",
    "import statsmodels.formula.api as sm\n",
    "import matplotlib.pyplot as plt\n",
    "\n",
    "\n",
    "### 예제데이터로드\n",
    "mydata = pd.read_csv('data_regression.csv') # 데이터위치지정\n",
    "print(mydata.head()) # 로드데이터확인\n",
    "\n",
    "\n",
    "### 데이터정제\n",
    "mydata.loc[mydata['SS_DAY'] == -9] # 20150520 일조합결측치 (-9)확인\n",
    "mydata.loc[(mydata['SS_DAY'] != -9) & (mydata['CA_TOT'] == 0.5)] # 20150520 을제외한 일평균전운량이0.5 였던날들확인\n",
    "mydata.loc[mydata['SS_DAY'] == -9, 'SS_DAY'] = 10.7 # 일조합결측치에평균값10.7 입력\n",
    "\n",
    "\n",
    "### 단순선형회귀모델링\n",
    "result = sm.ols(formula='SS_DAY ~ CA_TOT', data=mydata).fit()\n",
    "\n",
    "### 회귀분석결과요약\n",
    "print(result.summary())\n",
    "\n",
    "### 세부분석결과확인\n",
    "print('< Parameters > \\n', result.params) # 회귀계수출력\n",
    "print('< Prob (Parameters) > \\n', result.pvalues) # 회귀계수에대한P-value 출력\n",
    "print('< Adj. R-squaured > \\n', result.rsquared_adj) # 조정된R-squared 출력\n",
    "print('< Prob (F-statistic) > \\n', result.f_pvalue) # 모형의적합도출력\n",
    "\n",
    "### 그래프그리기\n",
    "fig, ax = plt.subplots(figsize=(8, 5))\n",
    "plt.ylabel('SS_DAY', size=12)\n",
    "plt.xlabel('CA_TOT', size=12)\n",
    "ax.plot(mydata.CA_TOT.values, mydata.SS_DAY.values, 'o', label='Data')\n",
    "ax.plot(mydata.CA_TOT.values, result.fittedvalues, 'b-', label='Regression')\n",
    "ax.legend(loc='best')"
   ]
  },
  {
   "cell_type": "markdown",
   "id": "9622ced1",
   "metadata": {},
   "source": [
    "< Parameters >에는 회귀모형의 절편과 기울기가 제시되어 있습니다. 위 결과를 식으로\n",
    "표현하면 다음과 같습니다.\n",
    "\n",
    "𝑌 = 12.22 − 1.90𝑋\n",
    "𝑌: 일조합(시간), 𝑋: 일평균전운량\n",
    "\n",
    "< Prob (Parameters) > 에는 각 모수(절편, 기울기)의 통계적 유의확률이 제시되어\n",
    "있으며, 일반적으로 .05 이하일 경우, 모수가 유의미한 것으로 해석합니다.\n",
    "\n",
    "< Adj. R-squared > 에는 회귀모형의 결정계수가 제시되어 있습니다. 결정계수는 모형의\n",
    "설명력을 뜻하며, 위 모형의 설명력은 67.27%입니다.\n",
    "\n",
    "< Prob (F-statistic) > 에는 모형의 F검정의 유의확률이 제시되어 있습니다. 이 유의확률\n",
    "역시 .05 이하일 경우 모형이 유의미한 것을 의미합니다.\n"
   ]
  }
 ],
 "metadata": {
  "kernelspec": {
   "display_name": ".venv",
   "language": "python",
   "name": "python3"
  },
  "language_info": {
   "codemirror_mode": {
    "name": "ipython",
    "version": 3
   },
   "file_extension": ".py",
   "mimetype": "text/x-python",
   "name": "python",
   "nbconvert_exporter": "python",
   "pygments_lexer": "ipython3",
   "version": "3.11.9"
  }
 },
 "nbformat": 4,
 "nbformat_minor": 5
}
